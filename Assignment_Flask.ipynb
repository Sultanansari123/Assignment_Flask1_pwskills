{
 "cells": [
  {
   "cell_type": "markdown",
   "id": "e9a806d4-00e3-4891-bff5-9b266449a3e2",
   "metadata": {},
   "source": [
    "# Flask"
   ]
  },
  {
   "cell_type": "markdown",
   "id": "b258d26a-bbeb-4894-a09f-ac2cf9cb0072",
   "metadata": {},
   "source": [
    "Ans1-\n",
    "Flask is a lightweight web framework for Python."
   ]
  },
  {
   "cell_type": "markdown",
   "id": "2f03d71b-5110-4b5b-ab51-a526181af280",
   "metadata": {},
   "source": [
    "advantages-\n",
    "Simplicity: Flask is simple and easy to use.\n",
    "Flexibility: It's flexible and allows developers to choose the components they want to use.\n",
    "Modularity: Flask is modular, enabling the use of extensions for additional functionality.\n",
    "No ORM: Flask doesn't enforce an Object-Relational Mapping (ORM), giving developers the freedom to choose their preferred database tools.\n",
    "Community and Documentation: Flask has a supportive community and well-documented resources.\n",
    "\n",
    "\n",
    "\n"
   ]
  },
  {
   "cell_type": "raw",
   "id": "81b4796c-d23a-4088-a418-75b020157d69",
   "metadata": {},
   "source": [
    "from flask import Flask\n",
    "\n",
    "app = Flask(__name__)\n",
    "\n",
    "@app.route(\"/\")\n",
    "def hello_world():\n",
    "    return \"<h1>Hello, World! and created by sultan ansari </h1>\"\n",
    "\n",
    "if __name__==\"__main__\":\n",
    "    app.run(host=\"0.0.0.0\")\n"
   ]
  },
  {
   "cell_type": "raw",
   "id": "cfa09594-c6e6-442f-885b-c1d8d74be8fe",
   "metadata": {},
   "source": [
    "![Screenshot (195).png](attachment:c0772f02-37bd-463f-8a4a-13d61a4a3e02.png)"
   ]
  },
  {
   "cell_type": "markdown",
   "id": "9d0fb88c-2688-4419-abac-c7dfa6fc5f63",
   "metadata": {},
   "source": [
    "Ans3-\n",
    "In Flask, routing refers to the mechanism of associating a URL with a function that handles that URL. It determines what function should be called when a specific URL is accessed. This is achieved using the @app.route() decorator."
   ]
  },
  {
   "cell_type": "markdown",
   "id": "bb829732-b19c-4501-8160-54c80c5d6f8b",
   "metadata": {},
   "source": [
    "Why do we use app routing in Flask?\n",
    "URL Handling: Routing allows you to define how URLs should be handled in your application. It helps in creating a logical structure for different parts of your web application.\n",
    "\n",
    "Code Organization: Routing helps in organizing your code by separating different functionalities into distinct functions or views. Each view is responsible for handling a specific route.\n",
    "\n",
    "Cleaner Code: By using routing, you can keep your code modular and focused. Each route corresponds to a specific piece of functionality, making the codebase cleaner and more maintainable.\n",
    "\n",
    "RESTful Design: In RESTful design, different routes correspond to different resources and actions. Flask's routing makes it easy to implement RESTful principles in your web application."
   ]
  },
  {
   "cell_type": "raw",
   "id": "6000fa4f-421c-4f01-9763-e3320178fcd5",
   "metadata": {},
   "source": [
    "Ans3-\n",
    "from flask import Flask\n",
    "\n",
    "app = Flask(__name__)\n",
    "\n",
    "@app.route('/')\n",
    "def home():\n",
    "    return 'Company Name: ABC<br>' \\\n",
    "           'Location: India<br>' \\\n",
    "           'Contact Detail: 999-999-9999'\n",
    "\n",
    "@app.route('/welcome')\n",
    "def welcome():\n",
    "    return 'Welcome to ABC Corporation!'\n",
    "\n",
    "if __name__==\"__main__\":\n",
    "    app.run(host=\"0.0.0.0\")"
   ]
  },
  {
   "cell_type": "markdown",
   "id": "6af79047-b17e-4139-9b40-34792bb0ec56",
   "metadata": {},
   "source": [
    "Ans5-\n",
    "In Flask, the url_for() function is used for URL building. It generates a URL for the specified endpoint and takes the endpoint name as its first argument. This is particularly useful because it allows you to avoid hardcoding URLs in your templates or application code, making it easier to update your URLs if your routing changes."
   ]
  },
  {
   "cell_type": "code",
   "execution_count": null,
   "id": "c4e2af7f-f232-4388-b4c2-49ad5b082efe",
   "metadata": {},
   "outputs": [],
   "source": []
  }
 ],
 "metadata": {
  "kernelspec": {
   "display_name": "Python 3 (ipykernel)",
   "language": "python",
   "name": "python3"
  },
  "language_info": {
   "codemirror_mode": {
    "name": "ipython",
    "version": 3
   },
   "file_extension": ".py",
   "mimetype": "text/x-python",
   "name": "python",
   "nbconvert_exporter": "python",
   "pygments_lexer": "ipython3",
   "version": "3.10.8"
  }
 },
 "nbformat": 4,
 "nbformat_minor": 5
}
